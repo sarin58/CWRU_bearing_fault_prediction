{
 "cells": [
  {
   "cell_type": "code",
   "execution_count": 85,
   "id": "8c2fc1dd-bf5c-406f-975c-293008f0f7cf",
   "metadata": {},
   "outputs": [],
   "source": [
    "import numpy as np \n",
    "import pandas as pd\n",
    "import scipy\n",
    "import warnings\n",
    "warnings.filterwarnings(action=\"ignore\",category=UserWarning)\n",
    "import os\n",
    "import matplotlib.pyplot as plt\n",
    "import seaborn as sns"
   ]
  },
  {
   "cell_type": "code",
   "execution_count": 102,
   "id": "09d16ea3-da69-42f8-8576-4a629787350d",
   "metadata": {},
   "outputs": [],
   "source": [
    "path = \"Bearing Data\""
   ]
  },
  {
   "cell_type": "code",
   "execution_count": 87,
   "id": "05319ca1-4184-4a8d-a606-e0c356e1e168",
   "metadata": {},
   "outputs": [],
   "source": [
    "#helper functions\n",
    "def read_files(path):\n",
    "    dict = {}\n",
    "    for file in os.listdir(path):\n",
    "        if file.endswith(\".mat\"):\n",
    "            dict[file] = scipy.io.loadmat(os.path.join(path,file))\n",
    "    data = {}\n",
    "    for file in dict.keys():\n",
    "        df = dict[file]\n",
    "        for key in df.keys():\n",
    "            if key.endswith(\"DE_time\"):\n",
    "                data[file] = pd.DataFrame(df[key])\n",
    "        # df = pd.DataFrame(data[file])\n",
    "        # dfs[file] = df\n",
    "    return data\n",
    "\n",
    "def split_data(dfs,size):\n",
    "    dfs_new = {}\n",
    "    for file in dfs.keys():\n",
    "        df = dfs[file].to_numpy()\n",
    "        total_num_blocks = len(df)//size\n",
    "        data_for_resampling = df[:total_num_blocks*size]\n",
    "\n",
    "        # split into segments\n",
    "        segments = data_for_resampling.reshape(-1, size)\n",
    "        dfs_new[file] = segments\n",
    "    return dfs_new\n",
    "\n",
    "def extract_features(signal):\n",
    "    min = np.min(signal)\n",
    "    max = np.max(signal)\n",
    "    mean = np.mean(signal)\n",
    "    std_dev = np.std(signal)\n",
    "    skewness = pd.Series(signal).skew()\n",
    "    kurtosis = pd.Series(signal).kurtosis()\n",
    "    peak_to_peak = np.ptp(signal)\n",
    "    rms = np.sqrt(np.mean(np.square(signal)))\n",
    "    crest_factor = np.max(np.abs(signal)) / rms\n",
    "    mad = np.mean(np.abs(signal - np.mean(signal)))\n",
    "    sma = np.sum(np.abs(signal))\n",
    "    zcr = ((signal[:-1] * signal[1:]) < 0).sum()\n",
    "    features = {\"mean\":mean,'std_dev':std_dev,'skewness':skewness,'kurtosis':kurtosis,'peak_to_peak':peak_to_peak,\n",
    "                             'rms':rms,'crest_factor':crest_factor,'mad':mad,'sma':sma,'zcr':zcr,'min':min,'max':max}\n",
    "\n",
    "    return features\n",
    "\n",
    "def stats_params(dfs):\n",
    "    dfs_stats = {}\n",
    "    for file in dfs.keys():\n",
    "        signal_df = dfs[file]\n",
    "        segment_features = []\n",
    "        for i in range(len(signal_df)):\n",
    "            features = pd.DataFrame(extract_features(signal_df[i]),index=[i])\n",
    "            segment_features.append(features)\n",
    "        dfs_stats[file] = pd.concat(segment_features,axis=0,ignore_index=True)\n",
    "    return dfs_stats\n",
    "\n",
    "def label_data(dfs):\n",
    "    df_list = []\n",
    "    for file in dfs.keys():\n",
    "        df = dfs[file]\n",
    "        df['label'] = file.split(\"_\")[0]\n",
    "        df_list.append(df)\n",
    "    data = pd.concat(df_list,axis=0,ignore_index=True)\n",
    "    return data"
   ]
  },
  {
   "cell_type": "code",
   "execution_count": 103,
   "id": "61a3d361-5dbc-42f3-93e8-5b164daaf8aa",
   "metadata": {},
   "outputs": [],
   "source": [
    "#reading multiple .mat files\n",
    "data = read_files(path)"
   ]
  },
  {
   "cell_type": "code",
   "execution_count": 89,
   "id": "cb436388-6522-4588-bcd0-47b4219f1f38",
   "metadata": {},
   "outputs": [],
   "source": [
    "#splitting data to small chunks\n",
    "data = split_data(data,2048)"
   ]
  },
  {
   "cell_type": "code",
   "execution_count": 90,
   "id": "f14ac987-4c7c-44f7-bcf3-c9e05b9e94b4",
   "metadata": {},
   "outputs": [],
   "source": [
    "#calculating statistical and time domain features\n",
    "data = stats_params(data)"
   ]
  },
  {
   "cell_type": "code",
   "execution_count": 91,
   "id": "d7fd99f4-b53d-4c9d-9660-fc6cff5cc1ae",
   "metadata": {},
   "outputs": [],
   "source": [
    "#labeling data\n",
    "data = label_data(data)"
   ]
  },
  {
   "cell_type": "code",
   "execution_count": 92,
   "id": "27301b30-4fe2-4cc8-af33-c9e1f3b4d59c",
   "metadata": {},
   "outputs": [
    {
     "data": {
      "text/html": [
       "<div>\n",
       "<style scoped>\n",
       "    .dataframe tbody tr th:only-of-type {\n",
       "        vertical-align: middle;\n",
       "    }\n",
       "\n",
       "    .dataframe tbody tr th {\n",
       "        vertical-align: top;\n",
       "    }\n",
       "\n",
       "    .dataframe thead th {\n",
       "        text-align: right;\n",
       "    }\n",
       "</style>\n",
       "<table border=\"1\" class=\"dataframe\">\n",
       "  <thead>\n",
       "    <tr style=\"text-align: right;\">\n",
       "      <th></th>\n",
       "      <th>mean</th>\n",
       "      <th>std_dev</th>\n",
       "      <th>skewness</th>\n",
       "      <th>kurtosis</th>\n",
       "      <th>peak_to_peak</th>\n",
       "      <th>rms</th>\n",
       "      <th>crest_factor</th>\n",
       "      <th>mad</th>\n",
       "      <th>sma</th>\n",
       "      <th>zcr</th>\n",
       "      <th>min</th>\n",
       "      <th>max</th>\n",
       "      <th>label</th>\n",
       "    </tr>\n",
       "  </thead>\n",
       "  <tbody>\n",
       "    <tr>\n",
       "      <th>0</th>\n",
       "      <td>0.017840</td>\n",
       "      <td>0.122716</td>\n",
       "      <td>-0.118746</td>\n",
       "      <td>-0.036491</td>\n",
       "      <td>0.778761</td>\n",
       "      <td>0.124006</td>\n",
       "      <td>3.378048</td>\n",
       "      <td>0.097425</td>\n",
       "      <td>202.450174</td>\n",
       "      <td>248</td>\n",
       "      <td>-0.418900</td>\n",
       "      <td>0.359862</td>\n",
       "      <td>Ball</td>\n",
       "    </tr>\n",
       "    <tr>\n",
       "      <th>1</th>\n",
       "      <td>0.022255</td>\n",
       "      <td>0.132456</td>\n",
       "      <td>0.174953</td>\n",
       "      <td>-0.075956</td>\n",
       "      <td>0.828829</td>\n",
       "      <td>0.134312</td>\n",
       "      <td>3.482303</td>\n",
       "      <td>0.106591</td>\n",
       "      <td>220.724673</td>\n",
       "      <td>242</td>\n",
       "      <td>-0.361113</td>\n",
       "      <td>0.467716</td>\n",
       "      <td>Ball</td>\n",
       "    </tr>\n",
       "    <tr>\n",
       "      <th>2</th>\n",
       "      <td>0.020470</td>\n",
       "      <td>0.149614</td>\n",
       "      <td>0.040399</td>\n",
       "      <td>-0.269128</td>\n",
       "      <td>0.906642</td>\n",
       "      <td>0.151008</td>\n",
       "      <td>3.102820</td>\n",
       "      <td>0.119333</td>\n",
       "      <td>247.139762</td>\n",
       "      <td>248</td>\n",
       "      <td>-0.438092</td>\n",
       "      <td>0.468550</td>\n",
       "      <td>Ball</td>\n",
       "    </tr>\n",
       "    <tr>\n",
       "      <th>3</th>\n",
       "      <td>0.020960</td>\n",
       "      <td>0.157029</td>\n",
       "      <td>-0.023300</td>\n",
       "      <td>0.141028</td>\n",
       "      <td>1.127775</td>\n",
       "      <td>0.158422</td>\n",
       "      <td>3.691090</td>\n",
       "      <td>0.124934</td>\n",
       "      <td>257.875318</td>\n",
       "      <td>251</td>\n",
       "      <td>-0.543026</td>\n",
       "      <td>0.584749</td>\n",
       "      <td>Ball</td>\n",
       "    </tr>\n",
       "    <tr>\n",
       "      <th>4</th>\n",
       "      <td>0.022167</td>\n",
       "      <td>0.138155</td>\n",
       "      <td>-0.081652</td>\n",
       "      <td>0.410030</td>\n",
       "      <td>1.025762</td>\n",
       "      <td>0.139922</td>\n",
       "      <td>4.137354</td>\n",
       "      <td>0.108189</td>\n",
       "      <td>224.647686</td>\n",
       "      <td>253</td>\n",
       "      <td>-0.578908</td>\n",
       "      <td>0.446854</td>\n",
       "      <td>Ball</td>\n",
       "    </tr>\n",
       "  </tbody>\n",
       "</table>\n",
       "</div>"
      ],
      "text/plain": [
       "       mean   std_dev  skewness  kurtosis  peak_to_peak       rms  \\\n",
       "0  0.017840  0.122716 -0.118746 -0.036491      0.778761  0.124006   \n",
       "1  0.022255  0.132456  0.174953 -0.075956      0.828829  0.134312   \n",
       "2  0.020470  0.149614  0.040399 -0.269128      0.906642  0.151008   \n",
       "3  0.020960  0.157029 -0.023300  0.141028      1.127775  0.158422   \n",
       "4  0.022167  0.138155 -0.081652  0.410030      1.025762  0.139922   \n",
       "\n",
       "   crest_factor       mad         sma  zcr       min       max label  \n",
       "0      3.378048  0.097425  202.450174  248 -0.418900  0.359862  Ball  \n",
       "1      3.482303  0.106591  220.724673  242 -0.361113  0.467716  Ball  \n",
       "2      3.102820  0.119333  247.139762  248 -0.438092  0.468550  Ball  \n",
       "3      3.691090  0.124934  257.875318  251 -0.543026  0.584749  Ball  \n",
       "4      4.137354  0.108189  224.647686  253 -0.578908  0.446854  Ball  "
      ]
     },
     "execution_count": 92,
     "metadata": {},
     "output_type": "execute_result"
    }
   ],
   "source": [
    "data.head()"
   ]
  },
  {
   "cell_type": "code",
   "execution_count": 93,
   "id": "c049e823-61aa-485f-b5c8-011d9911b99a",
   "metadata": {},
   "outputs": [
    {
     "data": {
      "text/plain": [
       "(2317, 13)"
      ]
     },
     "execution_count": 93,
     "metadata": {},
     "output_type": "execute_result"
    }
   ],
   "source": [
    "data.shape"
   ]
  },
  {
   "cell_type": "code",
   "execution_count": 94,
   "id": "de212e20-2e7a-404a-9ea8-ea395e847348",
   "metadata": {},
   "outputs": [
    {
     "data": {
      "text/plain": [
       "label\n",
       "Ball      711\n",
       "OR        711\n",
       "IR        659\n",
       "Normal    236\n",
       "Name: count, dtype: int64"
      ]
     },
     "execution_count": 94,
     "metadata": {},
     "output_type": "execute_result"
    }
   ],
   "source": [
    "data.label.value_counts()"
   ]
  },
  {
   "cell_type": "code",
   "execution_count": 95,
   "id": "2ad8ba9e-eb9b-46f6-aa80-98a464da165d",
   "metadata": {},
   "outputs": [],
   "source": [
    "#saving data\n",
    "data.to_csv(\"labeled_data.csv\")"
   ]
  }
 ],
 "metadata": {
  "kernelspec": {
   "display_name": "Python 3 (ipykernel)",
   "language": "python",
   "name": "python3"
  },
  "language_info": {
   "codemirror_mode": {
    "name": "ipython",
    "version": 3
   },
   "file_extension": ".py",
   "mimetype": "text/x-python",
   "name": "python",
   "nbconvert_exporter": "python",
   "pygments_lexer": "ipython3",
   "version": "3.12.4"
  }
 },
 "nbformat": 4,
 "nbformat_minor": 5
}
